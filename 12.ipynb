{
 "cells": [
  {
   "cell_type": "code",
   "execution_count": 7,
   "id": "650af9ac-1f59-46af-b379-0f58a0eafefd",
   "metadata": {},
   "outputs": [
    {
     "data": {
      "text/plain": [
       "'C:\\\\Users\\\\DELL 5110\\\\DownloadsFood_Price_Proportion_Analysis.xlsx'"
      ]
     },
     "execution_count": 7,
     "metadata": {},
     "output_type": "execute_result"
    }
   ],
   "source": [
    "import pandas as pd\n",
    "\n",
    "# Creating a DataFrame based on the data from the image\n",
    "data = {\n",
    "    \"Variable\": [\n",
    "        \"Continent\", \"Continent\", \"Continent\", \"Continent\",\n",
    "        \"Country level classification by Income\", \"Country level classification by Income\", \n",
    "        \"Country level classification by Income\", \"Country level classification by Income\",\n",
    "        \"Time Horizon of studies\", \"Time Horizon of studies\", \"Time Horizon of studies\",\n",
    "        \"Study Design\", \"Study Design\",\n",
    "        \"Weather Extreme Events\", \"Weather Extreme Events\", \"Weather Extreme Events\", \n",
    "        \"Weather Extreme Events\",\n",
    "        \"Agricultural Crop Production\", \"Agricultural Crop Production\", \"Agricultural Crop Production\",\n",
    "        \"GDP\", \"GDP\", \"GDP\",\n",
    "        \"Quality score of Studies (JBI Checklist)\", \"Quality score of Studies (JBI Checklist)\"\n",
    "    ],\n",
    "    \"Subgroup\": [\n",
    "        \"Asia\", \"Africa\", \"America\", \"Multiple Countries\",\n",
    "        \"High Income Country\", \"Middle Income Country\", \"Low Income Country\", \"Multiple Countries/Regions\",\n",
    "        \"Before 2020\", \"2020-2049\", \"2050-2100\",\n",
    "        \"Cross sectional (before 2020)\", \"Prospective Cohort (2020-2100)\",\n",
    "        \"Drought\", \"Flood\", \"RCP scenario\", \"Precipitation-Temperature\",\n",
    "        \"Increase Production\", \"Decrease Production\", \"Not Report\",\n",
    "        \"Decrease GDP\", \"Increase GDP\", \"Non report GDP\",\n",
    "        \"Medium Quality\", \"High quality\"\n",
    "    ],\n",
    "    \"Studies (effect size) (α)\": [\n",
    "        7, 7, 3, 6,\n",
    "        4, 6, 7, 6,\n",
    "        8, 6, 9,\n",
    "        6, 17,\n",
    "        5, 2, 8, 8,\n",
    "        2, 17, 4,\n",
    "        7, 4, 4,\n",
    "        12, 11\n",
    "    ],\n",
    "    \"Food Price proportion (95% CI)\": [\n",
    "        \"23 (13 - 65)\", \"28 (9 - 52)\", \"14 (6 - 25)\", \"20 (6 - 39)\",\n",
    "        \"26 (6 - 47)\", \"34 (4 - 75)\", \"15 (9 - 53)\", \"13 (5 - 24)\",\n",
    "        \"28 (4 - 63)\", \"31 (8 - 62)\", \"22 (9 - 38)\",\n",
    "        \"35 (5 - 76)\", \"23 (12 - 37)\",\n",
    "        \"32 (15 - 52)\", \"8 (6 - 10)\", \"17 (6 - 30)\", \"36 (16 - 59)\",\n",
    "        \"20 (19 - 21)\", \"31 (15 - 49)\", \"10 (9 - 11)\",\n",
    "        \"28 (12 - 47)\", \"31 (5 - 66)\", \"26 (6 - 43)\",\n",
    "        \"27 (8 - 52)\", \"25 (10 - 44)\"\n",
    "    ],\n",
    "    \"I² (%)\": [\n",
    "        99.84, 99.47, 99.30, 99.73,\n",
    "        99.69, 99.59, 99.49, 98.65,\n",
    "        99.85, 99.89, 99.87,\n",
    "        99.88, 99.78,\n",
    "        99.44, 99.87, 99.60, 99.77,\n",
    "        99.41, 100.00, 0.00,\n",
    "        99.87, 96.89, 99.84,\n",
    "        99.88, 99.80\n",
    "    ],\n",
    "    \"Heterogeneity between Groups P-value\": [\n",
    "        0.322, \"\", \"\", \"\",\n",
    "        0.130, \"\", \"\", \"\",\n",
    "        0.811, \"\", \"\",\n",
    "        0.553, \"\",\n",
    "        0.001, \"\", \"\", \"\",\n",
    "        0.001, \"\", \"\",\n",
    "        0.933, \"\", \"\",\n",
    "        0.897, \"\"\n",
    "    ]\n",
    "}\n",
    "\n",
    "# Creating the DataFrame\n",
    "df = pd.DataFrame(data)\n",
    "\n",
    "# Saving the DataFrame to an Excel file\n",
    "excel_path = r\"C:\\Users\\DELL 5110\\DownloadsFood_Price_Proportion_Analysis.xlsx\"\n",
    "df.to_excel(excel_path, index=False)\n",
    "\n",
    "excel_path\n"
   ]
  },
  {
   "cell_type": "code",
   "execution_count": null,
   "id": "97266b29-1aa8-4041-a793-3fcd070ea5c4",
   "metadata": {},
   "outputs": [],
   "source": []
  }
 ],
 "metadata": {
  "kernelspec": {
   "display_name": "Python 3 (ipykernel)",
   "language": "python",
   "name": "python3"
  },
  "language_info": {
   "codemirror_mode": {
    "name": "ipython",
    "version": 3
   },
   "file_extension": ".py",
   "mimetype": "text/x-python",
   "name": "python",
   "nbconvert_exporter": "python",
   "pygments_lexer": "ipython3",
   "version": "3.12.4"
  }
 },
 "nbformat": 4,
 "nbformat_minor": 5
}
